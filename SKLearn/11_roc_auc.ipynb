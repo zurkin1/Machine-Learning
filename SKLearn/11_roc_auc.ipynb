{
 "cells": [
  {
   "cell_type": "markdown",
   "metadata": {},
   "source": [
    "# ROC Curves and AUC"
   ]
  },
  {
   "cell_type": "code",
   "execution_count": 1,
   "metadata": {
    "collapsed": true
   },
   "outputs": [],
   "source": [
    "import pandas as pd\n",
    "from sklearn.model_selection import train_test_split\n",
    "from sklearn.linear_model import LogisticRegression\n",
    "from sklearn import metrics\n",
    "from sklearn.dummy import DummyClassifier\n",
    "import matplotlib.pyplot as plt\n",
    "%matplotlib inline"
   ]
  },
  {
   "cell_type": "code",
   "execution_count": 37,
   "metadata": {},
   "outputs": [
    {
     "name": "stdout",
     "output_type": "stream",
     "text": [
      "      default student      balance       income\n",
      "136         1     Yes  1486.998122  17854.39703\n",
      "173         1     Yes  2205.799521  14271.49225\n",
      "201         1     Yes  1774.694223  20359.50609\n",
      "206         1      No  1889.599190  48956.17159\n",
      "209         1     Yes  1899.390626  20655.20000\n",
      "241         1     Yes  1572.856481  14930.17833\n",
      "243         1      No  1964.476872  39054.58914\n",
      "263         1      No  1530.353157  30003.81715\n",
      "341         1      No  1642.819997  46856.94704\n",
      "345         1      No  1991.649120  42133.37318\n",
      "349         1      No  1550.449264  56273.51361\n",
      "357         1      No  1328.892725  34710.06237\n",
      "406         1      No  1700.599913  30488.98341\n",
      "439         1     Yes  1118.701039  21848.44290\n",
      "440         1      No  1119.097245  37224.56781\n",
      "487         1      No  1981.451815  28127.89547\n",
      "540         1      No  1717.071593  38408.89092\n",
      "545         1      No  1465.210164  58699.98320\n",
      "576         1      No  1763.579088  46227.07454\n",
      "581         1     Yes  1770.969441  15975.53720\n",
      "641         1      No  1531.716459  43930.40010\n",
      "651         1      No   780.172569  51656.87406\n",
      "713         1     Yes  1551.023469  19027.50863\n",
      "740         1     Yes  1504.290178  13965.18604\n",
      "761         1     Yes  1871.938387  18077.48709\n",
      "803         1      No  1902.612991  53394.07623\n",
      "833         1     Yes  1881.049952  16580.45056\n",
      "867         1      No  1505.831475  29525.74940\n",
      "920         1     Yes  1889.332110  22652.10963\n",
      "932         1      No  1243.554025  37634.34640\n",
      "...       ...     ...          ...          ...\n",
      "9256        1      No  1800.641733  48708.95993\n",
      "9271        1      No  1547.995445  37524.25353\n",
      "9295        1      No  2095.114817  44647.58648\n",
      "9328        1     Yes  1538.015603  21356.93711\n",
      "9369        1      No  1815.174112  23648.41351\n",
      "9432        1      No  2073.782846  52335.55060\n",
      "9437        1      No   961.732662  27600.41630\n",
      "9448        1      No  1825.970599  39407.91703\n",
      "9458        1      No  1658.967689  38204.12262\n",
      "9477        1      No  1506.191848  47061.39454\n",
      "9485        1     Yes  1719.255655  15752.00801\n",
      "9500        1     Yes  2046.639515  17910.63447\n",
      "9510        1     Yes  1726.479610  13654.60494\n",
      "9515        1      No  1666.113834  25054.76782\n",
      "9522        1      No   959.159213  59435.23458\n",
      "9538        1      No   652.397134  46155.04387\n",
      "9610        1     Yes  1502.186739  18603.49553\n",
      "9654        1      No  2128.795992  42096.50237\n",
      "9783        1     Yes  1530.551479  13003.92920\n",
      "9786        1      No  1698.826142  27374.88752\n",
      "9796        1     Yes  1867.308569  24720.48056\n",
      "9813        1      No  1975.653028  38221.83974\n",
      "9856        1      No  1973.822147  27340.01227\n",
      "9883        1      No  1335.612871  37595.34427\n",
      "9893        1      No  2288.408082  52043.56905\n",
      "9912        1      No  2148.898454  44309.91717\n",
      "9921        1     Yes  1627.898323  17546.99702\n",
      "9949        1      No  1750.253150  51578.94016\n",
      "9951        1      No  1515.606239  48688.51209\n",
      "9978        1      No  2202.462395  47287.25711\n",
      "\n",
      "[333 rows x 4 columns]\n"
     ]
    }
   ],
   "source": [
    "# read in the data\n",
    "#data = pd.read_csv('https://raw.githubusercontent.com/justmarkham/DAT5/master/data/default.csv')\n",
    "data = pd.read_csv('default-student.csv')\n",
    "print(data.loc[(data.default==1)&(data.income>data.balance)])"
   ]
  },
  {
   "cell_type": "markdown",
   "metadata": {},
   "source": [
    "## Model with One Feature"
   ]
  },
  {
   "cell_type": "code",
   "execution_count": 40,
   "metadata": {
    "collapsed": true
   },
   "outputs": [],
   "source": [
    "# create X and y\n",
    "X = data[['balance']]\n",
    "y = data.default"
   ]
  },
  {
   "cell_type": "code",
   "execution_count": 41,
   "metadata": {
    "collapsed": true
   },
   "outputs": [],
   "source": [
    "# split into train and test\n",
    "X_train, X_test, y_train, y_test = train_test_split(X, y, random_state=1)"
   ]
  },
  {
   "cell_type": "code",
   "execution_count": 42,
   "metadata": {},
   "outputs": [
    {
     "data": {
      "text/plain": [
       "LogisticRegression(C=1.0, class_weight=None, dual=False, fit_intercept=True,\n",
       "          intercept_scaling=1, max_iter=100, multi_class='ovr', n_jobs=1,\n",
       "          penalty='l2', random_state=None, solver='liblinear', tol=0.0001,\n",
       "          verbose=0, warm_start=False)"
      ]
     },
     "execution_count": 42,
     "metadata": {},
     "output_type": "execute_result"
    }
   ],
   "source": [
    "# create logistic regression model\n",
    "logreg = LogisticRegression()\n",
    "logreg.fit(X_train, y_train)"
   ]
  },
  {
   "cell_type": "code",
   "execution_count": 43,
   "metadata": {},
   "outputs": [
    {
     "name": "stdout",
     "output_type": "stream",
     "text": [
      "[0 0 0 ..., 0 0 0]\n",
      "0.9748\n"
     ]
    }
   ],
   "source": [
    "# make predictions and calculate accuracy\n",
    "y_pred = logreg.predict(X_test)\n",
    "print(y_pred)\n",
    "print (metrics.accuracy_score(y_test, y_pred))"
   ]
  },
  {
   "cell_type": "code",
   "execution_count": 21,
   "metadata": {},
   "outputs": [
    {
     "name": "stdout",
     "output_type": "stream",
     "text": [
      "0.0316\n",
      "0.9684\n"
     ]
    }
   ],
   "source": [
    "# calculate null accuracy rate\n",
    "print (y_test.mean())\n",
    "print (1 - y_test.mean())"
   ]
  },
  {
   "cell_type": "code",
   "execution_count": 44,
   "metadata": {},
   "outputs": [
    {
     "name": "stdout",
     "output_type": "stream",
     "text": [
      "0.9684\n"
     ]
    }
   ],
   "source": [
    "# use a \"dummy classifier\" to calculate null accuracy rate\n",
    "dumb = DummyClassifier(strategy='most_frequent')\n",
    "dumb.fit(X_train, y_train)\n",
    "y_pred = dumb.predict(X_test)\n",
    "print (metrics.accuracy_score(y_test, y_pred))"
   ]
  },
  {
   "cell_type": "code",
   "execution_count": 45,
   "metadata": {
    "collapsed": true
   },
   "outputs": [],
   "source": [
    "# predict probability of default\n",
    "y_prob = logreg.predict_proba(X_test)[:, 1]"
   ]
  },
  {
   "cell_type": "code",
   "execution_count": 47,
   "metadata": {},
   "outputs": [
    {
     "data": {
      "text/plain": [
       "<matplotlib.text.Text at 0x1f92decb6d8>"
      ]
     },
     "execution_count": 47,
     "metadata": {},
     "output_type": "execute_result"
    },
    {
     "data": {
      "image/png": "[encoded data removed]",
      "text/plain": [
       "<matplotlib.figure.Figure at 0x1f92de6e320>"
      ]
     },
     "metadata": {},
     "output_type": "display_data"
    }
   ],
   "source": [
    "# plot ROC curve of logistic regression\n",
    "fpr, tpr, thresholds = metrics.roc_curve(y_test, y_prob)\n",
    "#fpr, tpr, thresholds = metrics.precision_recall_curve(y_test, y_prob)\n",
    "plt.plot(fpr, tpr)\n",
    "plt.xlim([0.0, 1.0])\n",
    "plt.ylim([0.0, 1.0])\n",
    "plt.xlabel('False Positive Rate (1 - Specificity)')\n",
    "plt.ylabel('True Positive Rate (Sensitivity)')"
   ]
  },
  {
   "cell_type": "code",
   "execution_count": 48,
   "metadata": {},
   "outputs": [
    {
     "name": "stdout",
     "output_type": "stream",
     "text": [
      "0.497157657794\n"
     ]
    }
   ],
   "source": [
    "# calculate AUC\n",
    "#print (metrics.roc_auc_score(y_test, y_prob))\n",
    "print (metrics.average_precision_score(y_test, y_prob))"
   ]
  },
  {
   "cell_type": "code",
   "execution_count": 12,
   "metadata": {},
   "outputs": [
    {
     "data": {
      "text/plain": [
       "array([<matplotlib.axes._subplots.AxesSubplot object at 0x000001F92D51A6A0>,\n",
       "       <matplotlib.axes._subplots.AxesSubplot object at 0x000001F92D75FDA0>], dtype=object)"
      ]
     },
     "execution_count": 12,
     "metadata": {},
     "output_type": "execute_result"
    },
    {
     "data": {
      "image/png": "[encoded data removed]",
      "text/plain": [
       "<matplotlib.figure.Figure at 0x1f92d5890b8>"
      ]
     },
     "metadata": {},
     "output_type": "display_data"
    }
   ],
   "source": [
    "# histogram of predicted probabilities grouped by actual response value\n",
    "df = pd.DataFrame(data = {'probability':y_prob, 'actual':y_test})\n",
    "df.probability.hist(by=df.actual, sharex=True)"
   ]
  },
  {
   "cell_type": "markdown",
   "metadata": {},
   "source": [
    "## Model with Two Features"
   ]
  },
  {
   "cell_type": "code",
   "execution_count": 34,
   "metadata": {},
   "outputs": [
    {
     "name": "stdout",
     "output_type": "stream",
     "text": [
      "0.9684\n"
     ]
    }
   ],
   "source": [
    "# compare to a model with an additional feature\n",
    "X = data[['balance', 'income']]\n",
    "y = data.default\n",
    "\n",
    "# split into train and test\n",
    "X_train, X_test, y_train, y_test = train_test_split(X, y, random_state=1)\n",
    "logreg.fit(X_train, y_train)\n",
    "\n",
    "# calculate accuracy\n",
    "y_pred = logreg.predict(X_test)\n",
    "print (metrics.accuracy_score(y_test, y_pred))"
   ]
  },
  {
   "cell_type": "code",
   "execution_count": 35,
   "metadata": {},
   "outputs": [
    {
     "data": {
      "text/plain": [
       "<matplotlib.text.Text at 0x1f92ddbf080>"
      ]
     },
     "execution_count": 35,
     "metadata": {},
     "output_type": "execute_result"
    },
    {
     "data": {
      "image/png": "[encoded data removed]",
      "text/plain": [
       "<matplotlib.figure.Figure at 0x1f92dcb1b38>"
      ]
     },
     "metadata": {},
     "output_type": "display_data"
    }
   ],
   "source": [
    "# predict probability of default\n",
    "y_prob = logreg.predict_proba(X_test)[:, 1]\n",
    "\n",
    "# plot ROC curve\n",
    "fpr, tpr, thresholds = metrics.precision_recall_curve(y_test, y_prob)\n",
    "plt.plot(fpr, tpr)\n",
    "plt.xlim([0.0, 1.0])\n",
    "plt.ylim([0.0, 1.0])\n",
    "plt.xlabel('False Positive Rate (1 - Specificity)')\n",
    "plt.ylabel('True Positive Rate (Sensitivity)')"
   ]
  },
  {
   "cell_type": "code",
   "execution_count": 15,
   "metadata": {},
   "outputs": [
    {
     "name": "stdout",
     "output_type": "stream",
     "text": [
      "0.641794634501\n"
     ]
    }
   ],
   "source": [
    "# calculate AUC\n",
    "print (metrics.roc_auc_score(y_test, y_prob))"
   ]
  },
  {
   "cell_type": "code",
   "execution_count": 16,
   "metadata": {},
   "outputs": [
    {
     "data": {
      "text/plain": [
       "array([<matplotlib.axes._subplots.AxesSubplot object at 0x000001F92D77D4A8>,\n",
       "       <matplotlib.axes._subplots.AxesSubplot object at 0x000001F92DB5E828>], dtype=object)"
      ]
     },
     "execution_count": 16,
     "metadata": {},
     "output_type": "execute_result"
    },
    {
     "data": {
      "image/png": "[encoded data removed]",
      "text/plain": [
       "<matplotlib.figure.Figure at 0x1f92d783080>"
      ]
     },
     "metadata": {},
     "output_type": "display_data"
    }
   ],
   "source": [
    "# histogram of predicted probabilities grouped by actual response value\n",
    "df = pd.DataFrame(data = {'probability':y_prob, 'actual':y_test})\n",
    "df.probability.hist(by=df.actual, sharex=True)"
   ]
  },
  {
   "cell_type": "markdown",
   "metadata": {},
   "source": [
    "# Exercise"
   ]
  },
  {
   "cell_type": "markdown",
   "metadata": {},
   "source": [
    "1) Can you explain the results?\n",
    "2) Use http://scikit-learn.org/stable/modules/generated/sklearn.metrics.precision_recall_curve.html \n",
    "   to calculate precision and recall curves.\n",
    "3) Build a model with a third feature (student) and check its performance.\n",
    "    "
   ]
  },
  {
   "cell_type": "code",
   "execution_count": 49,
   "metadata": {},
   "outputs": [
    {
     "name": "stdout",
     "output_type": "stream",
     "text": [
      "0.974\n"
     ]
    }
   ],
   "source": [
    "data['stu'] = data.student.map({'Yes':1, 'No':0})\n",
    "X = data[['balance', 'stu']]\n",
    "y = data.default\n",
    "\n",
    "# split into train and test\n",
    "X_train, X_test, y_train, y_test = train_test_split(X, y, random_state=1)\n",
    "logreg.fit(X_train, y_train)\n",
    "\n",
    "# calculate accuracy\n",
    "y_pred = logreg.predict(X_test)\n",
    "print (metrics.accuracy_score(y_test, y_pred))"
   ]
  },
  {
   "cell_type": "code",
   "execution_count": null,
   "metadata": {
    "collapsed": true
   },
   "outputs": [],
   "source": []
  }
 ],
 "metadata": {
  "kernelspec": {
   "display_name": "Python 3",
   "language": "python",
   "name": "python3"
  },
  "language_info": {
   "codemirror_mode": {
    "name": "ipython",
    "version": 3
   },
   "file_extension": ".py",
   "mimetype": "text/x-python",
   "name": "python",
   "nbconvert_exporter": "python",
   "pygments_lexer": "ipython3",
   "version": "3.6.1"
  }
 },
 "nbformat": 4,
 "nbformat_minor": 1
}
