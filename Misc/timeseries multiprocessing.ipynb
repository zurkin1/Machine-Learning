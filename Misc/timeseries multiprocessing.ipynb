{
 "cells": [
  {
   "cell_type": "code",
   "execution_count": 1,
   "metadata": {
    "collapsed": false,
    "hideCode": false,
    "hidePrompt": false,
    "scrolled": true
   },
   "outputs": [],
   "source": [
    "import numpy as np\n",
    "import pandas as pd\n",
    "\n",
    "def initial_trend(series, slen):\n",
    "    sum = 0.0\n",
    "    for i in range(slen):\n",
    "        sum += float(series[i+slen] - series[i]) / slen\n",
    "    return sum / slen\n",
    "\n",
    "def initial_seasonal_components(series, slen):\n",
    "    seasonals = {}\n",
    "    season_averages = []\n",
    "    n_seasons = int(len(series)/slen) \n",
    "    # compute season averages\n",
    "    for j in range(n_seasons):\n",
    "        season_averages.append(sum(series[slen*j:slen*j+slen])/float(slen))\n",
    "        #season_averages.append(1)\n",
    "        #print(season_averages[0])\n",
    "    #print('n_seasons: ', n_seasons, ' season_averages len: ', len(season_averages))\n",
    "    # compute initial values\n",
    "    for i in range(slen):\n",
    "        sum_of_vals_over_avg = 0.0\n",
    "        for j in range(n_seasons):\n",
    "            #print(series.compute().iloc[0])\n",
    "            sum_of_vals_over_avg += series[slen*j+i]-season_averages[j]\n",
    "        seasonals[i] = sum_of_vals_over_avg/n_seasons\n",
    "    return seasonals\n",
    "\n",
    "def triple_exponential_smoothing(series, slen=4, alpha=0.716, beta=0.029, gamma=0.993, n_preds=1):\n",
    "    result = []\n",
    "    seasonals = initial_seasonal_components(series, slen)\n",
    "    for i in range(len(series)+n_preds):\n",
    "        if i == 0: # initial values\n",
    "            smooth = series[0]\n",
    "            trend = initial_trend(series, slen)\n",
    "            result.append(series[0])\n",
    "            continue\n",
    "        if i >= len(series): # we are forecasting\n",
    "            m = i - len(series) + 1\n",
    "            result.append((smooth + m*trend) + seasonals[i%slen])\n",
    "        else:\n",
    "            val = series[i]\n",
    "            last_smooth, smooth = smooth, alpha*(val-seasonals[i%slen]) + (1-alpha)*(smooth+trend)\n",
    "            trend = beta * (smooth-last_smooth) + (1-beta)*trend\n",
    "            seasonals[i%slen] = gamma*(val-smooth) + (1-gamma)*seasonals[i%slen]\n",
    "            result.append(smooth+trend+seasonals[i%slen])\n",
    "    return result"
   ]
  },
  {
   "cell_type": "code",
   "execution_count": null,
   "metadata": {
    "collapsed": false,
    "hideCode": false,
    "hidePrompt": false,
    "scrolled": true
   },
   "outputs": [],
   "source": [
    "import pandas as pd\n",
    "import multiprocessing as mp\n",
    "\n",
    "pool = mp.Pool(4) # use 4 processes\n",
    "\n",
    "data2 = pd.read_csv('User1.csv', index_col=0)\n",
    "data2['SPENT'] = 0\n",
    "#data = pd.read_csv('c:/Users/dani/PycharmProjects/WOW/CSV/TCUSTCOUPONITEMSSPENT.csv', index_col=None).reset_index(drop=True)\n",
    "data = pd.read_csv('User10869649.csv', index_col=0).reset_index(drop=True)\n",
    "\n",
    "def f(group):\n",
    "   df = pd.merge(left=group.reset_index(), right=data2, on=['WEEKIND', 'YEARIND'], how='outer')\n",
    "   df['SPENT2'] = df.SPENT_x + df.SPENT_y\n",
    "   df.SPENT2 = df.SPENT2.fillna(0)\n",
    "   df['DATE'] = 100*df.YEARIND + df.WEEKIND\n",
    "   df.sort_values(['DATE'], inplace=True)\n",
    "   df = df.fillna(method='ffill')\n",
    "   df = df.dropna()\n",
    "   df = df.reset_index()\n",
    "   hws = triple_exponential_smoothing(df.SPENT2)\n",
    "   return hws[-1] # return the predicted value\n",
    "\n",
    "def process_frame(data_account):\n",
    "    account = data_account.ACCOUNT_CODE.min()\n",
    "    grouped = data_account.groupby(['DEAL_CODE', 'COUPON_CODE']).apply(f)\n",
    "    grouped.to_csv('TCUST_predicted-' + str(account) + '.csv')    \n",
    "    return len(df)\n",
    "\n",
    "funclist = []\n",
    "for account in data.ACCOUNT_CODE.unique():\n",
    "   data_account = data.loc[data.ACCOUNT_CODE==account]\n",
    "   # process each data frame\n",
    "   f = pool.apply_async(process_frame,[data_account])\n",
    "   funclist.append(f)\n",
    "\n",
    "result = 0\n",
    "for f in funclist:\n",
    "    result += f.get(timeout=1000) # timeout in 1000 seconds\n",
    "\n",
    "print (\"There are %d rows of data\"%result)"
   ]
  },
  {
   "cell_type": "code",
   "execution_count": null,
   "metadata": {
    "collapsed": true
   },
   "outputs": [],
   "source": []
  }
 ],
 "metadata": {
  "celltoolbar": "Raw Cell Format",
  "hide_code_all_hidden": false,
  "kernelspec": {
   "display_name": "Python 3",
   "language": "python",
   "name": "python3"
  },
  "language_info": {
   "codemirror_mode": {
    "name": "ipython",
    "version": 3
   },
   "file_extension": ".py",
   "mimetype": "text/x-python",
   "name": "python",
   "nbconvert_exporter": "python",
   "pygments_lexer": "ipython3",
   "version": "3.6.0"
  }
 },
 "nbformat": 4,
 "nbformat_minor": 2
}
