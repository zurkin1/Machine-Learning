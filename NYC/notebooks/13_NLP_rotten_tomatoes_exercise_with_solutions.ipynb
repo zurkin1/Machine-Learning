{
 "cells": [
  {
   "cell_type": "markdown",
   "metadata": {},
   "source": [
    "# Natural Language Processing - Sentiment Analysis on Rotten Tomatoes quotes"
   ]
  },
  {
   "cell_type": "code",
   "execution_count": 1,
   "metadata": {
    "collapsed": false
   },
   "outputs": [],
   "source": [
    "import pandas as pd\n",
    "import numpy as np\n",
    "from sklearn.cross_validation import train_test_split\n",
    "from sklearn.feature_extraction.text import CountVectorizer, TfidfVectorizer\n",
    "from sklearn.linear_model import LogisticRegression"
   ]
  },
  {
   "cell_type": "code",
   "execution_count": 2,
   "metadata": {
    "collapsed": false
   },
   "outputs": [],
   "source": [
    "# load data from rt_critics.csv in the data folder of our DAT2 repo\n",
    "# at 'https://raw.githubusercontent.com/JamesByers/GA-SEA-DAT2/master/data/rt_critics.csv'\n",
    "df = pd.read_csv('https://raw.githubusercontent.com/JamesByers/GA-SEA-DAT2/master/data/rt_critics.csv')\n"
   ]
  },
  {
   "cell_type": "code",
   "execution_count": 3,
   "metadata": {
    "collapsed": false
   },
   "outputs": [
    {
     "data": {
      "text/html": [
       "<div>\n",
       "<table border=\"1\" class=\"dataframe\">\n",
       "  <thead>\n",
       "    <tr style=\"text-align: right;\">\n",
       "      <th></th>\n",
       "      <th>critic</th>\n",
       "      <th>fresh</th>\n",
       "      <th>imdb</th>\n",
       "      <th>publication</th>\n",
       "      <th>quote</th>\n",
       "      <th>review_date</th>\n",
       "      <th>rtid</th>\n",
       "      <th>title</th>\n",
       "    </tr>\n",
       "  </thead>\n",
       "  <tbody>\n",
       "    <tr>\n",
       "      <th>0</th>\n",
       "      <td>Derek Adams</td>\n",
       "      <td>fresh</td>\n",
       "      <td>114709</td>\n",
       "      <td>Time Out</td>\n",
       "      <td>So ingenious in concept, design and execution ...</td>\n",
       "      <td>2009-10-04</td>\n",
       "      <td>9559</td>\n",
       "      <td>Toy story</td>\n",
       "    </tr>\n",
       "    <tr>\n",
       "      <th>1</th>\n",
       "      <td>Richard Corliss</td>\n",
       "      <td>fresh</td>\n",
       "      <td>114709</td>\n",
       "      <td>TIME Magazine</td>\n",
       "      <td>The year's most inventive comedy.</td>\n",
       "      <td>2008-08-31</td>\n",
       "      <td>9559</td>\n",
       "      <td>Toy story</td>\n",
       "    </tr>\n",
       "    <tr>\n",
       "      <th>2</th>\n",
       "      <td>David Ansen</td>\n",
       "      <td>fresh</td>\n",
       "      <td>114709</td>\n",
       "      <td>Newsweek</td>\n",
       "      <td>A winning animated feature that has something ...</td>\n",
       "      <td>2008-08-18</td>\n",
       "      <td>9559</td>\n",
       "      <td>Toy story</td>\n",
       "    </tr>\n",
       "    <tr>\n",
       "      <th>3</th>\n",
       "      <td>Leonard Klady</td>\n",
       "      <td>fresh</td>\n",
       "      <td>114709</td>\n",
       "      <td>Variety</td>\n",
       "      <td>The film sports a provocative and appealing st...</td>\n",
       "      <td>2008-06-09</td>\n",
       "      <td>9559</td>\n",
       "      <td>Toy story</td>\n",
       "    </tr>\n",
       "    <tr>\n",
       "      <th>4</th>\n",
       "      <td>Jonathan Rosenbaum</td>\n",
       "      <td>fresh</td>\n",
       "      <td>114709</td>\n",
       "      <td>Chicago Reader</td>\n",
       "      <td>An entertaining computer-generated, hyperreali...</td>\n",
       "      <td>2008-03-10</td>\n",
       "      <td>9559</td>\n",
       "      <td>Toy story</td>\n",
       "    </tr>\n",
       "  </tbody>\n",
       "</table>\n",
       "</div>"
      ],
      "text/plain": [
       "               critic  fresh    imdb     publication  \\\n",
       "0         Derek Adams  fresh  114709        Time Out   \n",
       "1     Richard Corliss  fresh  114709   TIME Magazine   \n",
       "2         David Ansen  fresh  114709        Newsweek   \n",
       "3       Leonard Klady  fresh  114709         Variety   \n",
       "4  Jonathan Rosenbaum  fresh  114709  Chicago Reader   \n",
       "\n",
       "                                               quote review_date  rtid  \\\n",
       "0  So ingenious in concept, design and execution ...  2009-10-04  9559   \n",
       "1                  The year's most inventive comedy.  2008-08-31  9559   \n",
       "2  A winning animated feature that has something ...  2008-08-18  9559   \n",
       "3  The film sports a provocative and appealing st...  2008-06-09  9559   \n",
       "4  An entertaining computer-generated, hyperreali...  2008-03-10  9559   \n",
       "\n",
       "       title  \n",
       "0  Toy story  \n",
       "1  Toy story  \n",
       "2  Toy story  \n",
       "3  Toy story  \n",
       "4  Toy story  "
      ]
     },
     "execution_count": 3,
     "metadata": {},
     "output_type": "execute_result"
    }
   ],
   "source": [
    "# look at first 5 rows\n",
    "df.head()"
   ]
  },
  {
   "cell_type": "code",
   "execution_count": 4,
   "metadata": {
    "collapsed": false
   },
   "outputs": [
    {
     "data": {
      "text/plain": [
       "(14072, 8)"
      ]
     },
     "execution_count": 4,
     "metadata": {},
     "output_type": "execute_result"
    }
   ],
   "source": [
    "# Check the shape of dataframe\n",
    "df.shape"
   ]
  },
  {
   "cell_type": "code",
   "execution_count": 5,
   "metadata": {
    "collapsed": false
   },
   "outputs": [
    {
     "data": {
      "text/plain": [
       "fresh     8613\n",
       "rotten    5436\n",
       "none        23\n",
       "Name: fresh, dtype: int64"
      ]
     },
     "execution_count": 5,
     "metadata": {},
     "output_type": "execute_result"
    }
   ],
   "source": [
    "# Fresh is the column with ratings.  Count the number of each value in column fresh\n",
    "df.fresh.value_counts()"
   ]
  },
  {
   "cell_type": "code",
   "execution_count": 6,
   "metadata": {
    "collapsed": false
   },
   "outputs": [],
   "source": [
    "# vectorize the quotes and store it on a variable names Xcv\n",
    "vectorizer = CountVectorizer()\n",
    "Xcv = vectorizer.fit_transform(df['quote'])"
   ]
  },
  {
   "cell_type": "code",
   "execution_count": 7,
   "metadata": {
    "collapsed": false
   },
   "outputs": [
    {
     "data": {
      "text/plain": [
       "(14072, 21544)"
      ]
     },
     "execution_count": 7,
     "metadata": {},
     "output_type": "execute_result"
    }
   ],
   "source": [
    "# Check the shape of dataframe Xcv\n",
    "Xcv.shape"
   ]
  },
  {
   "cell_type": "markdown",
   "metadata": {},
   "source": [
    "But wait! We have more features than samples. This would ensure overfitting. Let's trim that number down to the top 5000, ranked by the term frequency across all documents."
   ]
  },
  {
   "cell_type": "code",
   "execution_count": 8,
   "metadata": {
    "collapsed": false
   },
   "outputs": [],
   "source": [
    "# Create an vectorizer object as a variable named vectorizer that includes just the top 5000\n",
    "# Hint: check the documentation for CountVectorizer\n",
    "vectorizer = CountVectorizer(max_features=5000)"
   ]
  },
  {
   "cell_type": "code",
   "execution_count": 9,
   "metadata": {
    "collapsed": true
   },
   "outputs": [],
   "source": [
    "#  Create a new vectorized feature matix named Xcv with the new vectorizer\n",
    "Xcv = vectorizer.fit_transform(df['quote'])"
   ]
  },
  {
   "cell_type": "code",
   "execution_count": 10,
   "metadata": {
    "collapsed": false
   },
   "outputs": [
    {
     "data": {
      "text/plain": [
       "array([1, 1, 1, 1, 1])"
      ]
     },
     "execution_count": 10,
     "metadata": {},
     "output_type": "execute_result"
    }
   ],
   "source": [
    "# Create the response vector y where the value is 1 if \"fresh\" and 0 if any other value than fresh\n",
    "y = np.where(df.fresh == 'fresh',1,0)\n",
    "# or\n",
    "# y = (df['fresh'] == 'fresh').values.astype(np.int8)\n",
    "y[:5]"
   ]
  },
  {
   "cell_type": "code",
   "execution_count": 11,
   "metadata": {
    "collapsed": false
   },
   "outputs": [
    {
     "data": {
      "text/plain": [
       "0.61206651506537801"
      ]
     },
     "execution_count": 11,
     "metadata": {},
     "output_type": "execute_result"
    }
   ],
   "source": [
    "# Determine the null accuracy\n",
    "max(y.mean(), 1 - y.mean())"
   ]
  },
  {
   "cell_type": "code",
   "execution_count": 12,
   "metadata": {
    "collapsed": false
   },
   "outputs": [],
   "source": [
    "# split the data into training and test sets\n",
    "xtrain_cv, xtest_cv, ytrain_cv, ytest_cv = train_test_split(Xcv, y)"
   ]
  },
  {
   "cell_type": "code",
   "execution_count": 13,
   "metadata": {
    "collapsed": false
   },
   "outputs": [
    {
     "name": "stdout",
     "output_type": "stream",
     "text": [
      "Accuracy: 75.55%\n"
     ]
    }
   ],
   "source": [
    "# Evaluate performance of models using test train split\n",
    "log_reg = LogisticRegression().fit(xtrain_cv, ytrain_cv)\n",
    "print \"Accuracy: %0.2f%%\" % (100 * log_reg.score(xtest_cv, ytest_cv))"
   ]
  },
  {
   "cell_type": "code",
   "execution_count": 14,
   "metadata": {
    "collapsed": false
   },
   "outputs": [
    {
     "name": "stdout",
     "output_type": "stream",
     "text": [
      "Accuracy: 74.99%\n"
     ]
    }
   ],
   "source": [
    "# Tune the logistic Regression regularization parameter \"C\" to improve performance.\n",
    "# Evaluate performance of models using test train split\n",
    "log_reg = LogisticRegression(C=1.5).fit(xtrain_cv, ytrain_cv)\n",
    "print \"Accuracy: %0.2f%%\" % (100 * log_reg.score(xtest_cv, ytest_cv))"
   ]
  },
  {
   "cell_type": "code",
   "execution_count": 15,
   "metadata": {
    "collapsed": false
   },
   "outputs": [
    {
     "name": "stdout",
     "output_type": "stream",
     "text": [
      "C=  0.5   Accuracy:  76.09\n",
      "C=  1.0   Accuracy:  75.55\n",
      "C=  1.5   Accuracy:  74.99\n",
      "C=  2.0   Accuracy:  74.9\n",
      "C=  2.5   Accuracy:  74.84\n",
      "C=  3.0   Accuracy:  74.62\n",
      "C=  3.5   Accuracy:  74.5\n",
      "C=  4.0   Accuracy:  74.22\n",
      "C=  4.5   Accuracy:  73.93\n",
      "C=  5.0   Accuracy:  73.91\n",
      "C=  5.5   Accuracy:  74.02\n",
      "C=  6.0   Accuracy:  73.91\n",
      "C=  6.5   Accuracy:  73.91\n",
      "C=  7.0   Accuracy:  73.76\n",
      "C=  7.5   Accuracy:  73.74\n",
      "C=  8.0   Accuracy:  73.71\n",
      "C=  8.5   Accuracy:  73.68\n",
      "C=  9.0   Accuracy:  73.65\n",
      "C=  9.5   Accuracy:  73.65\n"
     ]
    }
   ],
   "source": [
    "#Bonus if you have extra time: Create a for loop to find the C value\n",
    "# that produces the most accurate model \n",
    "step = np.arange(0.5,10,0.5)\n",
    "for c in step:\n",
    "    log_reg = LogisticRegression(C=c).fit(xtrain_cv, ytrain_cv)\n",
    "    print \"C= \", c, \"  Accuracy: \", round(100 * log_reg.score(xtest_cv, ytest_cv),2)"
   ]
  },
  {
   "cell_type": "markdown",
   "metadata": {},
   "source": [
    "# Stop Words\n",
    "\n",
    "The performance isn't bad, but it's not great. Let's see if we can improve things by [using stop words](http://scikit-learn.org/stable/modules/generated/sklearn.feature_extraction.text.CountVectorizer.html#sklearn.feature_extraction.text.CountVectorizer)?"
   ]
  },
  {
   "cell_type": "code",
   "execution_count": 16,
   "metadata": {
    "collapsed": false
   },
   "outputs": [],
   "source": [
    "# Modify your vectorizer to also remove stop words (still allow only 5000 features)\n",
    "\n",
    "# create a new vectorizer object that only allows 5000 features\n",
    "vectorizer = CountVectorizer(max_features=5000, stop_words='english')"
   ]
  },
  {
   "cell_type": "code",
   "execution_count": 17,
   "metadata": {
    "collapsed": true
   },
   "outputs": [],
   "source": [
    "# Create a new X called Xcvs\n",
    "Xcvs = vectorizer.fit_transform(df['quote'])"
   ]
  },
  {
   "cell_type": "code",
   "execution_count": 18,
   "metadata": {
    "collapsed": false
   },
   "outputs": [],
   "source": [
    "# split the converted data (Xcvs) into training and test sets\n",
    "xtraincvs, xtestcvs, ytraincvs, ytestcvs = train_test_split(Xcvs, y)"
   ]
  },
  {
   "cell_type": "code",
   "execution_count": 19,
   "metadata": {
    "collapsed": false
   },
   "outputs": [
    {
     "name": "stdout",
     "output_type": "stream",
     "text": [
      "Accuracy: 73.08%\n"
     ]
    }
   ],
   "source": [
    "# Evaluate performance of models using the test data\n",
    "# Tune the regularization parameter, C, to improve performance.\n",
    "\n",
    "log_reg = LogisticRegression(C=1.0).fit(xtraincvs, ytraincvs)\n",
    "print \"Accuracy: %0.2f%%\" % (100 * log_reg.score(xtestcvs, ytestcvs))"
   ]
  },
  {
   "cell_type": "code",
   "execution_count": 20,
   "metadata": {
    "collapsed": false
   },
   "outputs": [
    {
     "name": "stdout",
     "output_type": "stream",
     "text": [
      "Accuracy: 73.02%\n"
     ]
    }
   ],
   "source": [
    "# Tune the regularization parameter, C, to improve performance.\n",
    "log_reg = LogisticRegression(C=1.5).fit(xtraincvs, ytraincvs)\n",
    "print \"Accuracy: %0.2f%%\" % (100 * log_reg.score(xtestcvs, ytestcvs))"
   ]
  },
  {
   "cell_type": "code",
   "execution_count": 21,
   "metadata": {
    "collapsed": false
   },
   "outputs": [
    {
     "name": "stdout",
     "output_type": "stream",
     "text": [
      "C=  0.5   Accuracy:  73.42\n",
      "C=  1.0   Accuracy:  73.08\n",
      "C=  1.5   Accuracy:  73.02\n",
      "C=  2.0   Accuracy:  73.22\n",
      "C=  2.5   Accuracy:  73.17\n",
      "C=  3.0   Accuracy:  73.39\n",
      "C=  3.5   Accuracy:  73.05\n",
      "C=  4.0   Accuracy:  72.88\n",
      "C=  4.5   Accuracy:  72.85\n",
      "C=  5.0   Accuracy:  72.6\n",
      "C=  5.5   Accuracy:  72.6\n",
      "C=  6.0   Accuracy:  72.6\n",
      "C=  6.5   Accuracy:  72.57\n",
      "C=  7.0   Accuracy:  72.46\n",
      "C=  7.5   Accuracy:  72.4\n",
      "C=  8.0   Accuracy:  72.34\n",
      "C=  8.5   Accuracy:  72.2\n",
      "C=  9.0   Accuracy:  71.92\n",
      "C=  9.5   Accuracy:  71.92\n"
     ]
    }
   ],
   "source": [
    "#Alternate tuning of C using for loop\n",
    "step = np.arange(0.5,10,0.5)\n",
    "for c in step:\n",
    "    log_reg = LogisticRegression(C=c).fit(xtraincvs, ytraincvs)\n",
    "    print \"C= \", c, \"  Accuracy: \", round(100 * log_reg.score(xtestcvs, ytestcvs),2)"
   ]
  },
  {
   "cell_type": "markdown",
   "metadata": {},
   "source": [
    "# tf-idf\n",
    "\n",
    "If that didn't work, how about using tf-idf weighting?\n",
    "\n",
    "http://scikit-learn.org/stable/modules/generated/sklearn.feature_extraction.text.TfidfVectorizer.html#sklearn.feature_extraction.text.TfidfVectorizer"
   ]
  },
  {
   "cell_type": "code",
   "execution_count": 22,
   "metadata": {
    "collapsed": true
   },
   "outputs": [],
   "source": [
    "# edit this cell to create a TfidfVectorizer instead of a simple CountVectorizer\n",
    "# or start with your own model with CountVectorizer from the cells above\n",
    "\n",
    "# create vectorizer object\n",
    "# vectorizer = CountVectorizer(max_features=5000)\n",
    "\n",
    "# Create Xti and y\n",
    "# Xti = vectorizer.fit_transform(df['quote'])\n",
    "# Y = (df['fresh'] == 'fresh').values.astype(np.int8)\n",
    "\n",
    "# split the converted data into training and test sets\n",
    "# xtrainti, xtestti, ytrainti, ytestti = train_test_split(Xti, y)"
   ]
  },
  {
   "cell_type": "code",
   "execution_count": 23,
   "metadata": {
    "collapsed": false
   },
   "outputs": [],
   "source": [
    "# solution for \"edit this cell to create a TfidfVectorizer instead of a simple CountVectorizer\" above\n",
    "from sklearn.feature_extraction.text import TfidfVectorizer\n",
    "\n",
    "# create vectorizer object\n",
    "vectorizer = TfidfVectorizer(stop_words='english')\n",
    "\n",
    "# convert our documents and their labels into numpy arrays\n",
    "Xti = vectorizer.fit_transform(df['quote'])\n",
    "y = (df['fresh'] == 'fresh').values.astype(np.int8)\n",
    "\n",
    "# split the converted data into training and test sets\n",
    "xtrainti, xtestti, ytrainti, ytestti = train_test_split(Xti, y)"
   ]
  },
  {
   "cell_type": "code",
   "execution_count": 24,
   "metadata": {
    "collapsed": false
   },
   "outputs": [
    {
     "name": "stdout",
     "output_type": "stream",
     "text": [
      "Accuracy: 75.55%\n"
     ]
    }
   ],
   "source": [
    "# Evaluate performance of the new model\n",
    "log_reg = LogisticRegression(C=1.0).fit(xtrainti, ytrainti)\n",
    "print \"Accuracy: %0.2f%%\" % (100 * log_reg.score(xtestti, ytestti))"
   ]
  },
  {
   "cell_type": "code",
   "execution_count": 25,
   "metadata": {
    "collapsed": false
   },
   "outputs": [
    {
     "name": "stdout",
     "output_type": "stream",
     "text": [
      "Accuracy: 72.65%\n",
      "Accuracy: 75.55%\n",
      "Accuracy: 76.44%\n",
      "Accuracy: 76.58%\n",
      "Accuracy: 76.98%\n",
      "Accuracy: 77.12%\n",
      "Accuracy: 77.12%\n",
      "Accuracy: 77.09%\n",
      "Accuracy: 77.17%\n",
      "Accuracy: 76.98%\n",
      "Accuracy: 77.06%\n",
      "Accuracy: 76.89%\n",
      "Accuracy: 76.92%\n",
      "Accuracy: 76.86%\n",
      "Accuracy: 76.75%\n",
      "Accuracy: 76.81%\n",
      "Accuracy: 76.78%\n",
      "Accuracy: 76.78%\n",
      "Accuracy: 76.66%\n"
     ]
    }
   ],
   "source": [
    "# Tune the regularization parameter, C, to improve performance.\n",
    "step = np.arange(0.5,10,0.5)\n",
    "for c in step:\n",
    "    logr = LogisticRegression(C=c).fit(xtrainti, ytrainti)\n",
    "    print \"Accuracy: %0.2f%%\" % (100 * logr.score(xtestti, ytestti))"
   ]
  },
  {
   "cell_type": "code",
   "execution_count": 26,
   "metadata": {
    "collapsed": false
   },
   "outputs": [
    {
     "name": "stdout",
     "output_type": "stream",
     "text": [
      "C=  0.5   Accuracy:  72.65\n",
      "C=  1.0   Accuracy:  75.55\n",
      "C=  1.5   Accuracy:  76.44\n",
      "C=  2.0   Accuracy:  76.58\n",
      "C=  2.5   Accuracy:  76.98\n",
      "C=  3.0   Accuracy:  77.12\n",
      "C=  3.5   Accuracy:  77.12\n",
      "C=  4.0   Accuracy:  77.09\n",
      "C=  4.5   Accuracy:  77.17\n",
      "C=  5.0   Accuracy:  76.98\n",
      "C=  5.5   Accuracy:  77.06\n",
      "C=  6.0   Accuracy:  76.89\n",
      "C=  6.5   Accuracy:  76.92\n",
      "C=  7.0   Accuracy:  76.86\n",
      "C=  7.5   Accuracy:  76.75\n",
      "C=  8.0   Accuracy:  76.81\n",
      "C=  8.5   Accuracy:  76.78\n",
      "C=  9.0   Accuracy:  76.78\n",
      "C=  9.5   Accuracy:  76.66\n"
     ]
    }
   ],
   "source": [
    "#Bonus: if you have time find the best value of C using a for loop\n",
    "step = np.arange(0.5,10,0.5)\n",
    "for c in step:\n",
    "    log_reg = LogisticRegression(C=c).fit(xtrainti, ytrainti)\n",
    "    print \"C= \", c, \"  Accuracy: \", round(100 * log_reg.score(xtestti, ytestti),2)"
   ]
  },
  {
   "cell_type": "markdown",
   "metadata": {},
   "source": [
    "# tf-idf and stop words\n",
    "\n",
    "Do both together help?"
   ]
  },
  {
   "cell_type": "code",
   "execution_count": null,
   "metadata": {
    "collapsed": false
   },
   "outputs": [],
   "source": [
    "# edit this cell to create a TfidfVectorizer that uses stop words\n",
    "\n",
    "# create vectorizer object\n",
    "#vectorizer = CountVectorizer(max_features=5000)\n",
    "\n",
    "# convert our documents and their labels into numpy arrays\n",
    "#Xtis = vectorizer.fit_transform(df['quote'])\n",
    "#y = (df['fresh'] == 'fresh').values.astype(np.int8)\n",
    "\n",
    "# split the converted data into training and test sets\n",
    "#xtraintis, xtesttis, ytraintis, ytesttis = train_test_split(Xtis, y)"
   ]
  },
  {
   "cell_type": "code",
   "execution_count": null,
   "metadata": {
    "collapsed": false
   },
   "outputs": [],
   "source": [
    "# Solution for \"edit this cell to create a TfidfVectorizer that uses stop words\" above\n",
    "\n",
    "# create vectorizer object\n",
    "vectorizer = vectorizer = TfidfVectorizer()\n",
    "\n",
    "# convert our documents and their labels into numpy arrays\n",
    "Xtis = vectorizer.fit_transform(df['quote'])\n",
    "y = (df['fresh'] == 'fresh').values.astype(np.int8)\n",
    "\n",
    "# split the converted data into training and test sets\n",
    "xtraintis, xtesttis, ytraintis, ytesttis = train_test_split(Xtis, y)"
   ]
  },
  {
   "cell_type": "code",
   "execution_count": null,
   "metadata": {
    "collapsed": false
   },
   "outputs": [],
   "source": [
    "# Evaluate performance of models\n",
    "# Tune the regularization parameter, C, to improve performance.\n",
    "\n",
    "log_reg = LogisticRegression(C=1.0).fit(xtraintis, ytraintis)\n",
    "print \"Accuracy: %0.2f%%\" % (100 * log_reg.score(xtesttis, ytesttis))"
   ]
  },
  {
   "cell_type": "code",
   "execution_count": null,
   "metadata": {
    "collapsed": false
   },
   "outputs": [],
   "source": [
    "# #Bonus: if you have time find the best value of C using a for loop\n",
    "step = np.arange(0.5,10,0.5)\n",
    "for c in step:\n",
    "    log_reg = LogisticRegression(C=c).fit(xtraintis, ytraintis)\n",
    "    print \"Accuracy: %0.2f%%\" % (100 * log_reg.score(xtesttis, ytesttis))"
   ]
  },
  {
   "cell_type": "markdown",
   "metadata": {},
   "source": [
    "# Next steps\n",
    "\n",
    "Are you satisfied with these results? Why might you be less than satisfied? How can you explain the observed behavior? What are the next steps you would need to do to improve this classifier? If you have time remaining, try a few strategies out below."
   ]
  },
  {
   "cell_type": "code",
   "execution_count": null,
   "metadata": {
    "collapsed": false
   },
   "outputs": [],
   "source": [
    "# continue playing here\n",
    "\n",
    "# Use pipeline to evaluate accuracy with cross validation"
   ]
  },
  {
   "cell_type": "markdown",
   "metadata": {},
   "source": [
    "# More Next Steps\n",
    "\n",
    "The hardest part of creating a sentiment model is finding good training data. Googling 'sentiment analysis training data' or 'sentiment analysis test data' turns up a few freely available sources. Most of them are hosted by universities.\n",
    "\n",
    "But notice, determining the judgment of a movie review isn't the same task as determining the emotional content of a tweet. And yet, it kind of is. The computer doesn't know anything about nature of the text. All it knows is that there are documents with one label (fresh/happy) and documents with another label (rotten/sad) and it needs to fit a model to discriminate between the two. This can be extended to more classes (look into the 20 newsgroups dataset in sci-kit learn) and to proprietary corpora.\n",
    "\n",
    "One application you might use at work is classifying support emails from users. The classes may be 'ranting', 'mischarge', 'lost order', 'gushing'. Or whatever is common. Even if the classifier isn't perfect, it could help streamline the process of getting the right emails to the right support personnel."
   ]
  },
  {
   "cell_type": "code",
   "execution_count": null,
   "metadata": {
    "collapsed": false
   },
   "outputs": [],
   "source": [
    "from IPython.display import HTML\n",
    "HTML('''\n",
    "<style>\n",
    ".text_cell_render {\n",
    "  background-color: silver\n",
    "}\n",
    "</style>\n",
    "''')"
   ]
  }
 ],
 "metadata": {
  "kernelspec": {
   "display_name": "Python 2",
   "language": "python",
   "name": "python2"
  },
  "language_info": {
   "codemirror_mode": {
    "name": "ipython",
    "version": 2
   },
   "file_extension": ".py",
   "mimetype": "text/x-python",
   "name": "python",
   "nbconvert_exporter": "python",
   "pygments_lexer": "ipython2",
   "version": "2.7.11"
  }
 },
 "nbformat": 4,
 "nbformat_minor": 0
}
