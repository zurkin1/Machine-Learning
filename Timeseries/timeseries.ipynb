{
 "cells": [
  {
   "cell_type": "code",
   "execution_count": 1,
   "metadata": {},
   "outputs": [
    {
     "data": {
      "text/plain": [
       "10.285714285714286"
      ]
     },
     "execution_count": 1,
     "metadata": {},
     "output_type": "execute_result"
    }
   ],
   "source": [
    "import pandas as pd\n",
    "import sklearn.metrics as skm\n",
    "\n",
    "series = [3,10,12,13,12,10,12]\n",
    "def average(series):\n",
    "    return float(sum(series))/len(series)\n",
    "average(series)"
   ]
  },
  {
   "cell_type": "code",
   "execution_count": 2,
   "metadata": {},
   "outputs": [
    {
     "data": {
      "text/plain": [
       "11.333333333333334"
      ]
     },
     "execution_count": 2,
     "metadata": {},
     "output_type": "execute_result"
    }
   ],
   "source": [
    "#moving average using n last points\n",
    "def moving_average(series, n):\n",
    "    return average(series[-n:])\n",
    "\n",
    "moving_average(series, 3)"
   ]
  },
  {
   "cell_type": "code",
   "execution_count": 3,
   "metadata": {},
   "outputs": [
    {
     "data": {
      "text/plain": [
       "11.75"
      ]
     },
     "execution_count": 3,
     "metadata": {},
     "output_type": "execute_result"
    }
   ],
   "source": [
    "moving_average(series, 4)"
   ]
  },
  {
   "cell_type": "code",
   "execution_count": 4,
   "metadata": {},
   "outputs": [
    {
     "data": {
      "text/plain": [
       "11.500000000000002"
      ]
     },
     "execution_count": 4,
     "metadata": {},
     "output_type": "execute_result"
    }
   ],
   "source": [
    "# weighted average, weights is a list of weights\n",
    "def weighted_average(series, weights):\n",
    "    result = 0.0\n",
    "    weights.reverse()\n",
    "    for n in range(len(weights)):\n",
    "        result += series[-n-1] * weights[n]\n",
    "    return result\n",
    "\n",
    "weights = [0.1, 0.2, 0.3, 0.4]\n",
    "weighted_average(series, weights)"
   ]
  },
  {
   "cell_type": "code",
   "execution_count": 5,
   "metadata": {},
   "outputs": [
    {
     "data": {
      "text/plain": [
       "[3, 3.7, 4.53, 5.377, 6.0393, 6.43537, 6.991833]"
      ]
     },
     "execution_count": 5,
     "metadata": {},
     "output_type": "execute_result"
    }
   ],
   "source": [
    "# Level: given a series and alpha, return series of smoothed points (no prediction)\n",
    "def exponential_smoothing(series, alpha):\n",
    "    result = [series[0]] # first value is same as series\n",
    "    for n in range(1, len(series)):\n",
    "        result.append(alpha * series[n] + (1 - alpha) * result[n-1])\n",
    "    return result\n",
    "\n",
    "exponential_smoothing(series, 0.1)"
   ]
  },
  {
   "cell_type": "code",
   "execution_count": 6,
   "metadata": {},
   "outputs": [
    {
     "data": {
      "text/plain": [
       "[3, 9.3, 11.73, 12.873000000000001, 12.0873, 10.20873, 11.820873]"
      ]
     },
     "execution_count": 6,
     "metadata": {},
     "output_type": "execute_result"
    }
   ],
   "source": [
    "exponential_smoothing(series, 0.9)"
   ]
  },
  {
   "cell_type": "code",
   "execution_count": 7,
   "metadata": {},
   "outputs": [
    {
     "data": {
      "text/plain": [
       "[3,\n",
       " 17.0,\n",
       " 15.45,\n",
       " 14.210500000000001,\n",
       " 11.396044999999999,\n",
       " 8.183803049999998,\n",
       " 12.753698384500002,\n",
       " 13.889016464000003]"
      ]
     },
     "execution_count": 7,
     "metadata": {},
     "output_type": "execute_result"
    }
   ],
   "source": [
    "v_alpha=0.3\n",
    "v_gamma=0.1\n",
    "v_beta = 0.05 #0.029\n",
    "v_slen = 1\n",
    "\n",
    "# Trend: given a series and alpha, beta, return series of smoothed points (with one extra prediction)\n",
    "def double_exponential_smoothing(series, alpha=v_alpha, beta=v_beta):\n",
    "    result = [series[0]]\n",
    "    for n in range(1, len(series)+1):\n",
    "        if n == 1:\n",
    "            level, trend = series[0], series[1] - series[0]\n",
    "        if n >= len(series): # we are forecasting\n",
    "          value = result[-1]\n",
    "        else:\n",
    "          value = series[n]\n",
    "        last_level, level = level, alpha*value + (1-alpha)*(level+trend)\n",
    "        trend = beta*(level-last_level) + (1-beta)*trend\n",
    "        result.append(level+trend)\n",
    "    return result\n",
    "\n",
    "\n",
    "double_exponential_smoothing(series, alpha=0.9, beta=0.9)"
   ]
  },
  {
   "cell_type": "code",
   "execution_count": 8,
   "metadata": {},
   "outputs": [
    {
     "data": {
      "text/plain": [
       "-0.7847222222222222"
      ]
     },
     "execution_count": 8,
     "metadata": {},
     "output_type": "execute_result"
    }
   ],
   "source": [
    "series = [30,21,29,31,40,48,53,47,37,39,31,29,17,9,20,24,27,35,41,38,27,31,27,26,21,13,21,18,33,35,40,36,22,24,21,20,17,14,17,19,26,29,40,31,20,24,18,26,17,9,17,21,28,32,46,33,23,28,22,27,18,8,17,21,31,34,44,38,31,30,26,32]\n",
    "\n",
    "def initial_trend(series, slen):\n",
    "    sum = 0.0\n",
    "    for i in range(slen):\n",
    "        sum += float(series[i+slen] - series[i]) / slen\n",
    "    return sum / slen\n",
    "\n",
    "initial_trend(series, 12)"
   ]
  },
  {
   "cell_type": "code",
   "execution_count": 9,
   "metadata": {},
   "outputs": [
    {
     "data": {
      "text/plain": [
       "{0: -7.4305555555555545,\n",
       " 1: -15.097222222222221,\n",
       " 2: -7.263888888888888,\n",
       " 3: -5.097222222222222,\n",
       " 4: 3.402777777777778,\n",
       " 5: 8.069444444444445,\n",
       " 6: 16.569444444444446,\n",
       " 7: 9.736111111111112,\n",
       " 8: -0.7638888888888887,\n",
       " 9: 1.902777777777778,\n",
       " 10: -3.263888888888889,\n",
       " 11: -0.7638888888888887}"
      ]
     },
     "execution_count": 9,
     "metadata": {},
     "output_type": "execute_result"
    }
   ],
   "source": [
    "def initial_seasonal_components(series, slen):\n",
    "    seasonals = {}\n",
    "    season_averages = []\n",
    "    n_seasons = int(len(series)/slen)\n",
    "    # compute season averages\n",
    "    for j in range(n_seasons):\n",
    "        season_averages.append(sum(series[slen*j:slen*j+slen])/float(slen))\n",
    "    # compute initial values\n",
    "    for i in range(slen):\n",
    "        sum_of_vals_over_avg = 0.0\n",
    "        for j in range(n_seasons):\n",
    "            sum_of_vals_over_avg += series[slen*j+i]-season_averages[j]\n",
    "        seasonals[i] = sum_of_vals_over_avg/n_seasons\n",
    "    return seasonals\n",
    "\n",
    "initial_seasonal_components(series, 12)"
   ]
  },
  {
   "cell_type": "code",
   "execution_count": 10,
   "metadata": {},
   "outputs": [
    {
     "name": "stdout",
     "output_type": "stream",
     "text": [
      "[30, 20.34449316666667, 28.410051892109554, 30.438122252647577, 39.466817731253066, 47.54961891047195, 52.52339682497974, 46.53453460769274, 36.558407328055765, 38.56283307754578, 30.51864332437879, 28.425963657825292, 16.30247725646635, 8.228588857142476, 19.30036874234319, 23.38657154193773, 26.323990741396006, 34.356648660113095, 40.36971459184453, 37.44298129818558, 26.469996240541015, 30.51819842804787, 26.580158132275145, 25.556750355604414, 20.59232938487544, 12.557525846506284, 20.536167580315634, 17.449559582909338, 32.589947392978274, 34.559067611499714, 39.524706984702796, 35.54354494552727, 21.507741573047714, 23.48782855767762, 20.541994359470845, 19.543228201110367, 16.60700323688017, 13.697607405158983, 16.621224546074888, 18.619564648649416, 25.57626419227017, 28.544672577127326, 39.62603432821338, 30.578678843303678, 19.58514452366992, 23.614663453052163, 17.606991212001635, 25.767260902774442, 16.759148937441683, 8.712803906763776, 16.72824428057732, 20.7768592516643, 27.760289930117256, 31.74794281311134, 45.85701109377136, 32.77988806685826, 22.769367642515853, 27.80450001645962, 21.806956583618057, 26.862261134868607, 17.863888132693965, 7.79136434612686, 16.79511449881349, 20.831653319362697, 30.885227379775543, 33.87620406969448, 43.8722204956629, 37.93866311702782, 31.017079798498486, 29.952760178336057, 25.95873287479028, 32.01973275816115, 22.42511411230803, 15.343371755223066, 24.14282581581347, 27.02259921391996, 35.31139046245393, 38.999014669337356, 49.243283875692654, 40.84636009563803, 31.205180503707012, 32.96259980122959, 28.5164783238384, 32.30616336737171, 22.737583867810464, 15.655841510725496, 24.4552955713159, 27.33506896942239, 35.62386021795636, 39.31148442483978, 49.55575363119508, 41.15882985114047, 31.517650259209443, 33.275069556732014, 28.82894807934083, 32.618633122874144]\n"
     ]
    }
   ],
   "source": [
    "def triple_exponential_smoothing(series,  slen=v_slen, alpha=v_alpha, beta=v_beta, gamma=v_gamma, n_preds=1):\n",
    "    result = []\n",
    "    seasonals = initial_seasonal_components(series, slen)\n",
    "    for i in range(len(series)+n_preds):\n",
    "        if i == 0: # initial values\n",
    "            smooth = series[0]\n",
    "            trend = initial_trend(series, slen)\n",
    "            result.append(series[0])\n",
    "            continue\n",
    "        if i >= len(series): # we are forecasting\n",
    "            m = i - len(series) + 1\n",
    "            result.append((smooth + m*trend) + seasonals[i%slen])\n",
    "        else:\n",
    "            val = series[i]\n",
    "            last_smooth, smooth = smooth, alpha*(val-seasonals[i%slen]) + (1-alpha)*(smooth+trend)\n",
    "            trend = beta * (smooth-last_smooth) + (1-beta)*trend\n",
    "            seasonals[i%slen] = gamma*(val-smooth) + (1-gamma)*seasonals[i%slen]\n",
    "            result.append(smooth+trend+seasonals[i%slen])\n",
    "    return result\n",
    "\n",
    "# forecast 24 points (i.e. two seasons)\n",
    "print(triple_exponential_smoothing(series, 12, 0.716, 0.029, 0.993, 24))"
   ]
  },
  {
   "cell_type": "code",
   "execution_count": null,
   "metadata": {
    "collapsed": true
   },
   "outputs": [],
   "source": []
  }
 ],
 "metadata": {
  "kernelspec": {
   "display_name": "Python 3",
   "language": "python",
   "name": "python3"
  },
  "language_info": {
   "codemirror_mode": {
    "name": "ipython",
    "version": 3
   },
   "file_extension": ".py",
   "mimetype": "text/x-python",
   "name": "python",
   "nbconvert_exporter": "python",
   "pygments_lexer": "ipython3",
   "version": "3.6.1"
  }
 },
 "nbformat": 4,
 "nbformat_minor": 2
}
